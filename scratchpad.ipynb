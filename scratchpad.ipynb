{
 "metadata": {
  "language_info": {
   "codemirror_mode": {
    "name": "ipython",
    "version": 3
   },
   "file_extension": ".py",
   "mimetype": "text/x-python",
   "name": "python",
   "nbconvert_exporter": "python",
   "pygments_lexer": "ipython3",
   "version": "3.6.12-final"
  },
  "orig_nbformat": 2,
  "kernelspec": {
   "name": "Python 3.6.12 64-bit ('wsiprocess': conda)",
   "display_name": "Python 3.6.12 64-bit ('wsiprocess': conda)",
   "metadata": {
    "interpreter": {
     "hash": "ef3a2928ede1578ffb6b880ab0d69cab97ca9f97de1ddd19548a69d1ab5c4271"
    }
   }
  }
 },
 "nbformat": 4,
 "nbformat_minor": 2,
 "cells": [
  {
   "cell_type": "code",
   "execution_count": null,
   "metadata": {},
   "outputs": [],
   "source": [
    "# !pip install wsiprocess\n",
    "# !pip install cv2"
   ]
  },
  {
   "cell_type": "code",
   "execution_count": 1,
   "metadata": {},
   "outputs": [],
   "source": [
    "import wsiprocess as wp\n",
    "import os\n",
    "from pathlib import Path\n",
    "import cv2"
   ]
  },
  {
   "cell_type": "code",
   "execution_count": null,
   "metadata": {},
   "outputs": [],
   "source": [
    "# Download Sample TIF WSI from Openslide\n",
    "# !curl http://openslide.cs.cmu.edu/download/openslide-testdata/Generic-TIFF/CMU-1.tiff"
   ]
  },
  {
   "cell_type": "code",
   "execution_count": 15,
   "metadata": {},
   "outputs": [],
   "source": [
    "# path_source_wsi = '/mnt/c/WSI/'\n",
    "path_source_wsi = './sample/'\n",
    "\n",
    "# path_source_files = '/mnt/c/WSI/'\n",
    "path_source_files = './sample/'\n",
    "path_output = './projects/Test3'\n",
    "# path_source = './sample/'\n",
    "\n"
   ]
  },
  {
   "cell_type": "code",
   "execution_count": 16,
   "metadata": {},
   "outputs": [
    {
     "output_type": "stream",
     "name": "stdout",
     "text": [
      "['rule_mal_benign.json', 'rule copy.json', 'sha256sum.txt', 'CMU-1_points.xml', 'CMU-1.xml', 'rule.json', 'CMU-1.txt', 'CMU-1_donwload.sh', 'CMU-1.ndpi', 'CMU-1.tif', 'CMU-1_classification.xml', 'CMU-1_segmentation.xml', 'downloader.py', 'CMU-1_single.xml', 'CMU-1 copy.xml', 'CMU-1_detection.xml']\n"
     ]
    }
   ],
   "source": [
    "file_list=os.listdir(path_source_wsi)\n",
    "print (file_list)"
   ]
  },
  {
   "cell_type": "code",
   "execution_count": 37,
   "metadata": {},
   "outputs": [],
   "source": [
    "# slidefile = '285f74bb6be025a676b6.svs'\n",
    "# slidefile = 'CMU-1.ndpi'\n",
    "slidefile = 'CMU-1.tif'\n",
    "# slidefile = 'OS-17-06136_2951EB32-182D-4C09-AD64-8244A2EFB382.scn'\n",
    "# slidefile = '2efb541724b5c017c503.svs'\n",
    "\n",
    "# annotationfile = '2e611073cff18d503cea.xml'\n",
    "# annotationfile = 'CMU-1.xml'\n",
    "annotationfile = 'CMU-1_single.xml'\n",
    "# annotationfile = 'CMU-1_detection.xml'\n",
    "# annotationfile = 'CMU-1_points.xml'\n",
    "\n",
    "# rulefile = 'rule.json'\n",
    "rulefile = 'rule_mal_benign.json'\n",
    "# rulefile = 'rule copy.json'\n"
   ]
  },
  {
   "cell_type": "code",
   "execution_count": 38,
   "metadata": {},
   "outputs": [],
   "source": [
    "\n",
    "slide_path = str(path_source_wsi + slidefile)\n",
    "annot = path_source_files + annotationfile\n",
    "rule_path = path_source_files + rulefile\n",
    "\n",
    "# classes = ['benign','malignant']\n",
    "# classes = ['benign']"
   ]
  },
  {
   "cell_type": "code",
   "execution_count": 39,
   "metadata": {},
   "outputs": [],
   "source": [
    "slide = wp.slide(slide_path)\n",
    "annotation = wp.annotation(annot)\n",
    "annotation.read_annotation('ASAP')\n",
    "\n",
    "\n",
    "# rule = wp.rule(rule_path)\n",
    "\n",
    "classes = annotation.classes"
   ]
  },
  {
   "cell_type": "code",
   "execution_count": 40,
   "metadata": {},
   "outputs": [],
   "source": [
    "# print('annotation.classes=',annotation.classes)\n",
    "# print('annotation.contours=', annotation.contours)\n",
    "# print('annotation.masks=',annotation.masks)\n",
    "# print('annotation.mask_coords=', annotation.mask_coords)\n",
    "\n"
   ]
  },
  {
   "cell_type": "code",
   "execution_count": 43,
   "metadata": {},
   "outputs": [],
   "source": [
    "# annotation.make_masks(slide, rule, foreground=True)\n",
    "# annotation.make_masks(slide, rule, foreground='False')\n",
    "annotation.make_masks(slide, foreground=False)\n",
    "\n",
    "\n",
    "\n"
   ]
  },
  {
   "cell_type": "code",
   "execution_count": 44,
   "metadata": {},
   "outputs": [],
   "source": [
    "\n",
    "\n",
    "patcher = wp.patcher(slide, \"classification\", annotation, \n",
    "                        save_to=path_output, \n",
    "                        # patch_height=512, \n",
    "                        # patch_width=512, \n",
    "                        finished_sample=False, \n",
    "                        on_foreground=0.00, \n",
    "                        on_annotation=0.1, \n",
    "                        start_sample=True, \n",
    "                        no_patches=False)\n",
    "patcher.get_patch_parallel(classes)\n",
    "\n",
    "# patcher.save_to(str('./projects/Test2'))\n",
    "# patcher.get_patch_parallel()\n",
    "# patcher.save_patch_result(25, 25, classes)\n",
    "\n",
    "\n"
   ]
  },
  {
   "cell_type": "code",
   "execution_count": null,
   "metadata": {},
   "outputs": [],
   "source": [
    "patcher.find_masks(0, 11000, 'benign')"
   ]
  },
  {
   "cell_type": "code",
   "execution_count": null,
   "metadata": {},
   "outputs": [],
   "source": []
  },
  {
   "cell_type": "code",
   "execution_count": null,
   "metadata": {},
   "outputs": [],
   "source": [
    "\n",
    "annotation.make_masks(slide, rule)\n",
    "annotation.export_thumb_masks(save_to=path_output + \"/masks\")\n"
   ]
  },
  {
   "cell_type": "code",
   "execution_count": null,
   "metadata": {},
   "outputs": [],
   "source": [
    "#Launch COCO converter\n",
    "# conv_coco = wp.converter('/home/bnapora/development/wsiprocess/projects/Test2/CMU-1/patches/benign','//home/bnapora/development/wsiprocess/projects/Test1/CMU-1/patches/benign/output','0.4,0.3,0.3')\n",
    "# !wsiprocess 'detection' './sample/CMU-1.tif' './sample/CMU-1.xml' -co \n",
    "# !wsiprocess none ./sample/CMU-1.tif -of 1.0\n",
    "!wsiprocess detection ./sample/CMU-1.tif ./sample/rule.json\n",
    "\n",
    "# !python wsiprocess/converters/wsiprocess_to_coco.py '/home/bnapora/development/wsiprocess/projects/Test2/CMU-1/' -s '/home/bnapora/development/wsiprocess/projects/Test1/CMU-1/patches/benign/output'"
   ]
  },
  {
   "cell_type": "code",
   "execution_count": null,
   "metadata": {},
   "outputs": [],
   "source": []
  }
 ]
}